{
 "cells": [
  {
   "cell_type": "code",
   "execution_count": 1,
   "metadata": {},
   "outputs": [],
   "source": [
    "import os\n",
    "from datetime import datetime\n",
    "import pandas as pd\n",
    "import numpy as np\n",
    "import matplotlib.pyplot as plt\n",
    "import seaborn as sns\n",
    "\n",
    "import json\n",
    "from pprint import pprint\n",
    "%matplotlib inline"
   ]
  },
  {
   "cell_type": "code",
   "execution_count": 2,
   "metadata": {},
   "outputs": [],
   "source": [
    "dir_2018_10_01_01 = os.listdir(\"./twitter-2018-10-01/2018/10/01/01/\")"
   ]
  },
  {
   "cell_type": "code",
   "execution_count": 6,
   "metadata": {},
   "outputs": [],
   "source": [
    "dir_2018_10_01 = os.listdir(\"./twitter-2018-10-01/2018/10/01/\")"
   ]
  },
  {
   "cell_type": "code",
   "execution_count": 21,
   "metadata": {},
   "outputs": [],
   "source": [
    "nike = []          \n",
    "for i in dir_2018_10_01:\n",
    "    for j in os.listdir('./twitter-2018-10-01/2018/10/01/'+ i + '/'):\n",
    "        with open('./twitter-2018-10-01/2018/10/01/'+ i + '/'+ j) as f: \n",
    "            for line in f:\n",
    "                tw = json.loads(line) \n",
    "                if \"text\" in tw.keys():\n",
    "                    if \" nike\" in tw[\"text\"].lower():\n",
    "                        ts = int(tw['timestamp_ms'])/1000\n",
    "                        nike.append({\"id\": tw[\"id\"], \"tweets\": tw[\"text\"], 'Time': datetime.utcfromtimestamp(ts).strftime('%Y-%m-%d %H:%M:%S')})  "
   ]
  },
  {
   "cell_type": "code",
   "execution_count": 27,
   "metadata": {},
   "outputs": [],
   "source": [
    "for i in dir_2018_10_01:\n",
    "    for j in os.listdir('./twitter-2018-10-01/2018/10/01/'+ i + '/'):\n",
    "        with open('./twitter-2018-10-01/2018/10/01/'+ i + '/'+ j) as f: \n",
    "            for line in f:\n",
    "                tw = json.loads(line) \n",
    "                if \"text\" in tw.keys():\n",
    "                    if \"#nike\" in tw[\"text\"].lower():\n",
    "                        ts = int(tw['timestamp_ms'])/1000\n",
    "                        nike.append({\"id\": tw[\"id\"], \"tweets\": tw[\"text\"], 'Time': datetime.utcfromtimestamp(ts).strftime('%Y-%m-%d %H:%M:%S')})  "
   ]
  },
  {
   "cell_type": "code",
   "execution_count": 29,
   "metadata": {},
   "outputs": [],
   "source": [
    "for i in os.listdir(\"./twitter-2018-10-02/2018/10/02/\"):\n",
    "    if i != \"06\":\n",
    "        for j in os.listdir('./twitter-2018-10-02/2018/10/02/'+ i + '/'):\n",
    "\n",
    "            with open('./twitter-2018-10-02/2018/10/02/'+ i + '/'+ j) as f: \n",
    "                for line in f:\n",
    "                    tw = json.loads(line) \n",
    "                    if \"text\" in tw.keys():\n",
    "                        if \" nike\" in tw[\"text\"].lower():\n",
    "                            ts = int(tw['timestamp_ms'])/1000\n",
    "                            nike.append({\"id\": tw[\"id\"], \"tweets\": tw[\"text\"], 'Time': datetime.utcfromtimestamp(ts).strftime('%Y-%m-%d %H:%M:%S')})  \n",
    "# 10/02/06 folder caused the problem. I went through other folders one by one from 10/02/00 to 10/02/23. Other folders didn't caused problem  "
   ]
  },
  {
   "cell_type": "code",
   "execution_count": 31,
   "metadata": {},
   "outputs": [],
   "source": [
    "# Exclude 10/02/06 folder as mentioned above for #nike.\n",
    "for i in os.listdir(\"./twitter-2018-10-02/2018/10/02/\"):\n",
    "    if i != \"06\":\n",
    "        for j in os.listdir('./twitter-2018-10-02/2018/10/02/'+ i + '/'):\n",
    "\n",
    "            with open('./twitter-2018-10-02/2018/10/02/'+ i + '/'+ j) as f: \n",
    "                for line in f:\n",
    "                    tw = json.loads(line) \n",
    "                    if \"text\" in tw.keys():\n",
    "                        if \"#nike\" in tw[\"text\"].lower():\n",
    "                            ts = int(tw['timestamp_ms'])/1000\n",
    "                            nike.append({\"id\": tw[\"id\"], \"tweets\": tw[\"text\"], 'Time': datetime.utcfromtimestamp(ts).strftime('%Y-%m-%d %H:%M:%S')})  "
   ]
  },
  {
   "cell_type": "code",
   "execution_count": 33,
   "metadata": {},
   "outputs": [],
   "source": [
    "for i in os.listdir(\"./twitter-2018-10-03/2018/10/03/\"):\n",
    "    for j in os.listdir('./twitter-2018-10-03/2018/10/03/'+ i + '/'):\n",
    "        with open('./twitter-2018-10-03/2018/10/03/'+ i + '/'+ j) as f: \n",
    "            for line in f:\n",
    "                tw = json.loads(line) \n",
    "                if \"text\" in tw.keys():\n",
    "                    if \" nike\" in tw[\"text\"].lower():\n",
    "                        ts = int(tw['timestamp_ms'])/1000\n",
    "                        nike.append({\"id\": tw[\"id\"], \"tweets\": tw[\"text\"], 'Time': datetime.utcfromtimestamp(ts).strftime('%Y-%m-%d %H:%M:%S')})  "
   ]
  },
  {
   "cell_type": "code",
   "execution_count": 35,
   "metadata": {},
   "outputs": [],
   "source": [
    "for i in os.listdir(\"./twitter-2018-10-03/2018/10/03/\"):\n",
    "    for j in os.listdir('./twitter-2018-10-03/2018/10/03/'+ i + '/'):\n",
    "        with open('./twitter-2018-10-03/2018/10/03/'+ i + '/'+ j) as f: \n",
    "            for line in f:\n",
    "                tw = json.loads(line) \n",
    "                if \"text\" in tw.keys():\n",
    "                    if \"#nike\" in tw[\"text\"].lower():\n",
    "                        ts = int(tw['timestamp_ms'])/1000\n",
    "                        nike.append({\"id\": tw[\"id\"], \"tweets\": tw[\"text\"], 'Time': datetime.utcfromtimestamp(ts).strftime('%Y-%m-%d %H:%M:%S')})  "
   ]
  },
  {
   "cell_type": "code",
   "execution_count": 37,
   "metadata": {},
   "outputs": [],
   "source": [
    "for i in os.listdir(\"./twitter-2018-10-04/2018/10/04/\"):\n",
    "    for j in os.listdir('./twitter-2018-10-04/2018/10/04/'+ i + '/'):\n",
    "        with open('./twitter-2018-10-04/2018/10/04/'+ i + '/'+ j) as f: \n",
    "            for line in f:\n",
    "                tw = json.loads(line) \n",
    "                if \"text\" in tw.keys():\n",
    "                    if \" nike\" in tw[\"text\"].lower():\n",
    "                        ts = int(tw['timestamp_ms'])/1000\n",
    "                        nike.append({\"id\": tw[\"id\"], \"tweets\": tw[\"text\"], 'Time': datetime.utcfromtimestamp(ts).strftime('%Y-%m-%d %H:%M:%S')})  "
   ]
  },
  {
   "cell_type": "code",
   "execution_count": 39,
   "metadata": {},
   "outputs": [],
   "source": [
    "for i in os.listdir(\"./twitter-2018-10-04/2018/10/04/\"):\n",
    "    for j in os.listdir('./twitter-2018-10-04/2018/10/04/'+ i + '/'):\n",
    "        with open('./twitter-2018-10-04/2018/10/04/'+ i + '/'+ j) as f: \n",
    "            for line in f:\n",
    "                tw = json.loads(line) \n",
    "                if \"text\" in tw.keys():\n",
    "                    if \"#nike\" in tw[\"text\"].lower():\n",
    "                        ts = int(tw['timestamp_ms'])/1000\n",
    "                        nike.append({\"id\": tw[\"id\"], \"tweets\": tw[\"text\"], 'Time': datetime.utcfromtimestamp(ts).strftime('%Y-%m-%d %H:%M:%S')})  "
   ]
  },
  {
   "cell_type": "code",
   "execution_count": 41,
   "metadata": {},
   "outputs": [],
   "source": [
    "adidas = []          \n",
    "for i in dir_2018_10_01:\n",
    "    for j in os.listdir('./twitter-2018-10-01/2018/10/01/'+ i + '/'):\n",
    "        with open('./twitter-2018-10-01/2018/10/01/'+ i + '/'+ j) as f: \n",
    "            for line in f:\n",
    "                tw = json.loads(line) \n",
    "                if \"text\" in tw.keys():\n",
    "                    if \" adidas\" in tw[\"text\"].lower():\n",
    "                        ts = int(tw['timestamp_ms'])/1000\n",
    "                        adidas.append({\"id\": tw[\"id\"], \"tweets\": tw[\"text\"], 'Time': datetime.utcfromtimestamp(ts).strftime('%Y-%m-%d %H:%M:%S')})  "
   ]
  },
  {
   "cell_type": "code",
   "execution_count": 43,
   "metadata": {},
   "outputs": [],
   "source": [
    "for i in dir_2018_10_01:\n",
    "    for j in os.listdir('./twitter-2018-10-01/2018/10/01/'+ i + '/'):\n",
    "        with open('./twitter-2018-10-01/2018/10/01/'+ i + '/'+ j) as f: \n",
    "            for line in f:\n",
    "                tw = json.loads(line) \n",
    "                if \"text\" in tw.keys():\n",
    "                    if \"#adidas\" in tw[\"text\"].lower():\n",
    "                        ts = int(tw['timestamp_ms'])/1000\n",
    "                        adidas.append({\"id\": tw[\"id\"], \"tweets\": tw[\"text\"], 'Time': datetime.utcfromtimestamp(ts).strftime('%Y-%m-%d %H:%M:%S')})  "
   ]
  },
  {
   "cell_type": "code",
   "execution_count": 45,
   "metadata": {},
   "outputs": [],
   "source": [
    "# Exclude 10/02/06 folder as mentioned above for #nike.\n",
    "for i in os.listdir(\"./twitter-2018-10-02/2018/10/02/\"):\n",
    "    if i != \"06\":\n",
    "        for j in os.listdir('./twitter-2018-10-02/2018/10/02/'+ i + '/'):\n",
    "\n",
    "            with open('./twitter-2018-10-02/2018/10/02/'+ i + '/'+ j) as f: \n",
    "                for line in f:\n",
    "                    tw = json.loads(line) \n",
    "                    if \"text\" in tw.keys():\n",
    "                        if \" adidas\" in tw[\"text\"].lower():\n",
    "                            ts = int(tw['timestamp_ms'])/1000\n",
    "                            adidas.append({\"id\": tw[\"id\"], \"tweets\": tw[\"text\"], 'Time': datetime.utcfromtimestamp(ts).strftime('%Y-%m-%d %H:%M:%S')})  "
   ]
  },
  {
   "cell_type": "code",
   "execution_count": 47,
   "metadata": {},
   "outputs": [],
   "source": [
    "# Exclude 10/02/06 folder as mentioned above for #nike.\n",
    "for i in os.listdir(\"./twitter-2018-10-02/2018/10/02/\"):\n",
    "    if i != \"06\":\n",
    "        for j in os.listdir('./twitter-2018-10-02/2018/10/02/'+ i + '/'):\n",
    "\n",
    "            with open('./twitter-2018-10-02/2018/10/02/'+ i + '/'+ j) as f: \n",
    "                for line in f:\n",
    "                    tw = json.loads(line) \n",
    "                    if \"text\" in tw.keys():\n",
    "                        if \"#adidas\" in tw[\"text\"].lower():\n",
    "                            ts = int(tw['timestamp_ms'])/1000\n",
    "                            adidas.append({\"id\": tw[\"id\"], \"tweets\": tw[\"text\"], 'Time': datetime.utcfromtimestamp(ts).strftime('%Y-%m-%d %H:%M:%S')})  "
   ]
  },
  {
   "cell_type": "code",
   "execution_count": 49,
   "metadata": {},
   "outputs": [],
   "source": [
    "for i in os.listdir(\"./twitter-2018-10-03/2018/10/03/\"):    \n",
    "    for j in os.listdir('./twitter-2018-10-03/2018/10/03/'+ i + '/'):\n",
    "        with open('./twitter-2018-10-03/2018/10/03/'+ i + '/'+ j) as f: \n",
    "            for line in f:\n",
    "                tw = json.loads(line) \n",
    "                if \"text\" in tw.keys():\n",
    "                    if \" adidas\" in tw[\"text\"].lower():\n",
    "                        ts = int(tw['timestamp_ms'])/1000\n",
    "                        adidas.append({\"id\": tw[\"id\"], \"tweets\": tw[\"text\"], 'Time': datetime.utcfromtimestamp(ts).strftime('%Y-%m-%d %H:%M:%S')})  "
   ]
  },
  {
   "cell_type": "code",
   "execution_count": 51,
   "metadata": {},
   "outputs": [],
   "source": [
    "for i in os.listdir(\"./twitter-2018-10-03/2018/10/03/\"):    \n",
    "    for j in os.listdir('./twitter-2018-10-03/2018/10/03/'+ i + '/'):\n",
    "        with open('./twitter-2018-10-03/2018/10/03/'+ i + '/'+ j) as f: \n",
    "            for line in f:\n",
    "                tw = json.loads(line) \n",
    "                if \"text\" in tw.keys():\n",
    "                    if \"#adidas\" in tw[\"text\"].lower():\n",
    "                        ts = int(tw['timestamp_ms'])/1000\n",
    "                        adidas.append({\"id\": tw[\"id\"], \"tweets\": tw[\"text\"], 'Time': datetime.utcfromtimestamp(ts).strftime('%Y-%m-%d %H:%M:%S')})  "
   ]
  },
  {
   "cell_type": "code",
   "execution_count": 53,
   "metadata": {},
   "outputs": [],
   "source": [
    "for i in os.listdir(\"./twitter-2018-10-04/2018/10/04/\"):    \n",
    "    for j in os.listdir('./twitter-2018-10-04/2018/10/04/'+ i + '/'):\n",
    "        with open('./twitter-2018-10-04/2018/10/04/'+ i + '/'+ j) as f: \n",
    "            for line in f:\n",
    "                tw = json.loads(line) \n",
    "                if \"text\" in tw.keys():\n",
    "                    if \" adidas\" in tw[\"text\"].lower():\n",
    "                        ts = int(tw['timestamp_ms'])/1000\n",
    "                        adidas.append({\"id\": tw[\"id\"], \"tweets\": tw[\"text\"], 'Time': datetime.utcfromtimestamp(ts).strftime('%Y-%m-%d %H:%M:%S')})  "
   ]
  },
  {
   "cell_type": "code",
   "execution_count": 55,
   "metadata": {},
   "outputs": [],
   "source": [
    "for i in os.listdir(\"./twitter-2018-10-04/2018/10/04/\"):    \n",
    "    for j in os.listdir('./twitter-2018-10-04/2018/10/04/'+ i + '/'):\n",
    "        with open('./twitter-2018-10-04/2018/10/04/'+ i + '/'+ j) as f: \n",
    "            for line in f:\n",
    "                tw = json.loads(line, encoding = \"ISO-8859-1\") \n",
    "                if \"text\" in tw.keys():\n",
    "                    if \"#adidas\" in tw[\"text\"].lower():\n",
    "                        ts = int(tw['timestamp_ms'])/1000\n",
    "                        adidas.append({\"id\": tw[\"id\"], \"tweets\": tw[\"text\"], 'Time': datetime.utcfromtimestamp(ts).strftime('%Y-%m-%d %H:%M:%S')})  "
   ]
  },
  {
   "cell_type": "code",
   "execution_count": 57,
   "metadata": {},
   "outputs": [],
   "source": [
    "df_nike_oct1_4 = pd.DataFrame.from_dict(nike)"
   ]
  },
  {
   "cell_type": "code",
   "execution_count": 58,
   "metadata": {},
   "outputs": [
    {
     "data": {
      "text/html": [
       "<div>\n",
       "<style scoped>\n",
       "    .dataframe tbody tr th:only-of-type {\n",
       "        vertical-align: middle;\n",
       "    }\n",
       "\n",
       "    .dataframe tbody tr th {\n",
       "        vertical-align: top;\n",
       "    }\n",
       "\n",
       "    .dataframe thead th {\n",
       "        text-align: right;\n",
       "    }\n",
       "</style>\n",
       "<table border=\"1\" class=\"dataframe\">\n",
       "  <thead>\n",
       "    <tr style=\"text-align: right;\">\n",
       "      <th></th>\n",
       "      <th>Time</th>\n",
       "      <th>id</th>\n",
       "      <th>tweets</th>\n",
       "    </tr>\n",
       "  </thead>\n",
       "  <tbody>\n",
       "    <tr>\n",
       "      <th>0</th>\n",
       "      <td>2018-10-01 23:32:28</td>\n",
       "      <td>1046905719126200321</td>\n",
       "      <td>Cristiano Ronaldo is a rapist. If Nike doesn’t...</td>\n",
       "    </tr>\n",
       "    <tr>\n",
       "      <th>1</th>\n",
       "      <td>2018-10-01 23:46:23</td>\n",
       "      <td>1046909221340471296</td>\n",
       "      <td>コムデギャルソン ナイキ Nike Vapormax 白 → https://t.co/2g...</td>\n",
       "    </tr>\n",
       "    <tr>\n",
       "      <th>2</th>\n",
       "      <td>2018-10-01 23:10:30</td>\n",
       "      <td>1046900191020879872</td>\n",
       "      <td>our ad who is basically on record as hating bl...</td>\n",
       "    </tr>\n",
       "    <tr>\n",
       "      <th>3</th>\n",
       "      <td>2018-10-01 23:52:31</td>\n",
       "      <td>1046910764852883456</td>\n",
       "      <td>RT @brkicks: .@obj with the Supreme sleeve and...</td>\n",
       "    </tr>\n",
       "    <tr>\n",
       "      <th>4</th>\n",
       "      <td>2018-10-01 23:18:00</td>\n",
       "      <td>1046902078461730816</td>\n",
       "      <td>RT @KirralieS: This person is demanding all Ni...</td>\n",
       "    </tr>\n",
       "  </tbody>\n",
       "</table>\n",
       "</div>"
      ],
      "text/plain": [
       "                  Time                   id  \\\n",
       "0  2018-10-01 23:32:28  1046905719126200321   \n",
       "1  2018-10-01 23:46:23  1046909221340471296   \n",
       "2  2018-10-01 23:10:30  1046900191020879872   \n",
       "3  2018-10-01 23:52:31  1046910764852883456   \n",
       "4  2018-10-01 23:18:00  1046902078461730816   \n",
       "\n",
       "                                              tweets  \n",
       "0  Cristiano Ronaldo is a rapist. If Nike doesn’t...  \n",
       "1  コムデギャルソン ナイキ Nike Vapormax 白 → https://t.co/2g...  \n",
       "2  our ad who is basically on record as hating bl...  \n",
       "3  RT @brkicks: .@obj with the Supreme sleeve and...  \n",
       "4  RT @KirralieS: This person is demanding all Ni...  "
      ]
     },
     "execution_count": 58,
     "metadata": {},
     "output_type": "execute_result"
    }
   ],
   "source": [
    "df_nike_oct1_4.head()"
   ]
  },
  {
   "cell_type": "code",
   "execution_count": 59,
   "metadata": {},
   "outputs": [],
   "source": [
    "df_nike_oct1_4.to_csv(\"Nike_2018_Oct_01_to_04.csv\", index=False)"
   ]
  },
  {
   "cell_type": "code",
   "execution_count": 60,
   "metadata": {},
   "outputs": [],
   "source": [
    "df_adidas_oct1_4 = pd.DataFrame.from_dict(adidas)"
   ]
  },
  {
   "cell_type": "code",
   "execution_count": 61,
   "metadata": {},
   "outputs": [
    {
     "data": {
      "text/html": [
       "<div>\n",
       "<style scoped>\n",
       "    .dataframe tbody tr th:only-of-type {\n",
       "        vertical-align: middle;\n",
       "    }\n",
       "\n",
       "    .dataframe tbody tr th {\n",
       "        vertical-align: top;\n",
       "    }\n",
       "\n",
       "    .dataframe thead th {\n",
       "        text-align: right;\n",
       "    }\n",
       "</style>\n",
       "<table border=\"1\" class=\"dataframe\">\n",
       "  <thead>\n",
       "    <tr style=\"text-align: right;\">\n",
       "      <th></th>\n",
       "      <th>Time</th>\n",
       "      <th>id</th>\n",
       "      <th>tweets</th>\n",
       "    </tr>\n",
       "  </thead>\n",
       "  <tbody>\n",
       "    <tr>\n",
       "      <th>0</th>\n",
       "      <td>2018-10-01 23:03:09</td>\n",
       "      <td>1046898341341274112</td>\n",
       "      <td>RT @brkicks: NBA “plans to ban” Kanye West’s A...</td>\n",
       "    </tr>\n",
       "    <tr>\n",
       "      <th>1</th>\n",
       "      <td>2018-10-01 23:39:37</td>\n",
       "      <td>1046907518453198849</td>\n",
       "      <td>RT @brkicks: NBA “plans to ban” Kanye West’s A...</td>\n",
       "    </tr>\n",
       "    <tr>\n",
       "      <th>2</th>\n",
       "      <td>2018-10-01 23:51:15</td>\n",
       "      <td>1046910446094159880</td>\n",
       "      <td>RT @SavinTheBees: Imagine buying the Adidas x ...</td>\n",
       "    </tr>\n",
       "    <tr>\n",
       "      <th>3</th>\n",
       "      <td>2018-10-01 23:38:15</td>\n",
       "      <td>1046907174524477440</td>\n",
       "      <td>Check out ADIDAS CINCINNATI BEARCATS T-SHIRT (...</td>\n",
       "    </tr>\n",
       "    <tr>\n",
       "      <th>4</th>\n",
       "      <td>2018-10-01 23:12:48</td>\n",
       "      <td>1046900769826304000</td>\n",
       "      <td>RT @brkicks: NBA “plans to ban” Kanye West’s A...</td>\n",
       "    </tr>\n",
       "  </tbody>\n",
       "</table>\n",
       "</div>"
      ],
      "text/plain": [
       "                  Time                   id  \\\n",
       "0  2018-10-01 23:03:09  1046898341341274112   \n",
       "1  2018-10-01 23:39:37  1046907518453198849   \n",
       "2  2018-10-01 23:51:15  1046910446094159880   \n",
       "3  2018-10-01 23:38:15  1046907174524477440   \n",
       "4  2018-10-01 23:12:48  1046900769826304000   \n",
       "\n",
       "                                              tweets  \n",
       "0  RT @brkicks: NBA “plans to ban” Kanye West’s A...  \n",
       "1  RT @brkicks: NBA “plans to ban” Kanye West’s A...  \n",
       "2  RT @SavinTheBees: Imagine buying the Adidas x ...  \n",
       "3  Check out ADIDAS CINCINNATI BEARCATS T-SHIRT (...  \n",
       "4  RT @brkicks: NBA “plans to ban” Kanye West’s A...  "
      ]
     },
     "execution_count": 61,
     "metadata": {},
     "output_type": "execute_result"
    }
   ],
   "source": [
    "df_adidas_oct1_4.head()"
   ]
  },
  {
   "cell_type": "code",
   "execution_count": 62,
   "metadata": {},
   "outputs": [],
   "source": [
    "df_adidas_oct1_4.to_csv(\"Adidas_2018_Oct_01_to_04.csv\", index=False)"
   ]
  },
  {
   "cell_type": "code",
   "execution_count": 64,
   "metadata": {},
   "outputs": [
    {
     "data": {
      "image/png": "[encoded data removed]",
      "text/plain": [
       "<Figure size 432x288 with 1 Axes>"
      ]
     },
     "metadata": {},
     "output_type": "display_data"
    }
   ],
   "source": [
    "data = (len(df_nike_oct1_4), len(df_adidas_oct1_4))\n",
    "ind = np.arange(2)    # the x locations for the groups\n",
    "width = 0.35       # the width of the bars: can also be len(x) sequence\n",
    "\n",
    "plt.bar(ind, data, width)\n",
    "\n",
    "plt.ylabel('Tweent counts')\n",
    "plt.title('Nike vs Adidas Tweent counts')\n",
    "plt.xticks(ind, ('Nike', 'Adidas'))\n",
    "\n",
    "plt.show()"
   ]
  },
  {
   "cell_type": "code",
   "execution_count": 66,
   "metadata": {},
   "outputs": [],
   "source": [
    "nike_shoeCounts = 0 \n",
    "for i in df_nike_oct1_4['tweets']:\n",
    "    if \"shoe\" in i:\n",
    "        nike_shoeCounts += 1        "
   ]
  },
  {
   "cell_type": "code",
   "execution_count": 67,
   "metadata": {},
   "outputs": [],
   "source": [
    "adidas_shoeCounts = 0 \n",
    "for i in df_adidas_oct1_4['tweets']:\n",
    "    if \"shoe\" in i:\n",
    "        adidas_shoeCounts += 1\n",
    "        "
   ]
  },
  {
   "cell_type": "code",
   "execution_count": 72,
   "metadata": {},
   "outputs": [
    {
     "data": {
      "image/png": "[encoded data removed]",
      "text/plain": [
       "<Figure size 432x288 with 1 Axes>"
      ]
     },
     "metadata": {},
     "output_type": "display_data"
    }
   ],
   "source": [
    "data = (nike_shoeCounts, adidas_shoeCounts)\n",
    "ind = np.arange(2)    \n",
    "plt.bar(ind, data, width)\n",
    "\n",
    "plt.ylabel('Shoe Tweent Counts')\n",
    "plt.title('Nike vs Adidas Shoe Tweent Counts')\n",
    "plt.xticks(ind, ('Nike', 'Adidas'))\n",
    "\n",
    "plt.show()"
   ]
  },
  {
   "cell_type": "code",
   "execution_count": null,
   "metadata": {},
   "outputs": [],
   "source": []
  }
 ],
 "metadata": {
  "kernelspec": {
   "display_name": "Python 3",
   "language": "python",
   "name": "python3"
  },
  "language_info": {
   "codemirror_mode": {
    "name": "ipython",
    "version": 3
   },
   "file_extension": ".py",
   "mimetype": "text/x-python",
   "name": "python",
   "nbconvert_exporter": "python",
   "pygments_lexer": "ipython3",
   "version": "3.6.6"
  }
 },
 "nbformat": 4,
 "nbformat_minor": 2
}
